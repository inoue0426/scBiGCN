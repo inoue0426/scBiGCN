{
 "cells": [
  {
   "cell_type": "code",
   "execution_count": 3,
   "id": "53d47961",
   "metadata": {},
   "outputs": [],
   "source": [
    "import pandas as pd\n",
    "import numpy as np\n",
    "\n",
    "from bigcn import run_model"
   ]
  },
  {
   "cell_type": "code",
   "execution_count": 4,
   "id": "ede9e8c6",
   "metadata": {},
   "outputs": [],
   "source": [
    "?run_model"
   ]
  },
  {
   "cell_type": "code",
   "execution_count": null,
   "id": "bed28a2f",
   "metadata": {},
   "outputs": [],
   "source": []
  }
 ],
 "metadata": {
  "kernelspec": {
   "display_name": "gpu1",
   "language": "python",
   "name": "gpu1"
  },
  "language_info": {
   "codemirror_mode": {
    "name": "ipython",
    "version": 3
   },
   "file_extension": ".py",
   "mimetype": "text/x-python",
   "name": "python",
   "nbconvert_exporter": "python",
   "pygments_lexer": "ipython3",
   "version": "3.10.11"
  }
 },
 "nbformat": 4,
 "nbformat_minor": 5
}
